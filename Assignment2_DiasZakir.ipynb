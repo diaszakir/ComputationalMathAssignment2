{
  "nbformat": 4,
  "nbformat_minor": 0,
  "metadata": {
    "colab": {
      "provenance": [],
      "authorship_tag": "ABX9TyOjKSxzKwZLp2GouBusLaBC",
      "include_colab_link": true
    },
    "kernelspec": {
      "name": "python3",
      "display_name": "Python 3"
    },
    "language_info": {
      "name": "python"
    }
  },
  "cells": [
    {
      "cell_type": "markdown",
      "metadata": {
        "id": "view-in-github",
        "colab_type": "text"
      },
      "source": [
        "<a href=\"https://colab.research.google.com/github/diaszakir/ComputationalMathAssignment2/blob/main/Assignment2_DiasZakir.ipynb\" target=\"_parent\"><img src=\"https://colab.research.google.com/assets/colab-badge.svg\" alt=\"Open In Colab\"/></a>"
      ]
    },
    {
      "cell_type": "markdown",
      "source": [
        "### Computational Mathematics Assignment 2\n",
        "Dias Zakir SE-2320"
      ],
      "metadata": {
        "id": "OckOQeznlq_4"
      }
    },
    {
      "cell_type": "markdown",
      "source": [
        "Import libraries"
      ],
      "metadata": {
        "id": "FZ2fccMTl3pe"
      }
    },
    {
      "cell_type": "code",
      "source": [
        "import numpy as np"
      ],
      "metadata": {
        "id": "l9Naf36zl25Y"
      },
      "execution_count": 3,
      "outputs": []
    },
    {
      "cell_type": "markdown",
      "source": [
        "### Task 1: Jacobi Method and Convergence Analysis.\n"
      ],
      "metadata": {
        "id": "mI183FW2ppig"
      }
    },
    {
      "cell_type": "markdown",
      "source": [
        "Task 1: Jacobi Method and Convergence Analysis.\n",
        "Problem:\n",
        "1. Implement the Jacobi method to solve the system of linear equations:\n",
        "2. Start with an initial guess x0=[0,0,0].\n",
        "3. Check the convergence of the system using the diagonal dominance criterion.\n",
        "![image.png](data:image/png;base64,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)\n",
        "\n",
        "Required:\n",
        "1. Provide a detailed calculation of the iterations.\n",
        "2. Check whether the diagonal dominance criterion is satisfied.\n",
        "3. Explain how convergence depends on the structure of the system"
      ],
      "metadata": {
        "id": "3Tvt-fFAhT-6"
      }
    },
    {
      "cell_type": "code",
      "execution_count": null,
      "metadata": {
        "id": "ZlHecTtChP0H",
        "colab": {
          "base_uri": "https://localhost:8080/"
        },
        "outputId": "d97757e6-47da-4ea4-fb0e-31a499c55925"
      },
      "outputs": [
        {
          "output_type": "stream",
          "name": "stdout",
          "text": [
            "[ 0.5 -0.6  1.5]\n",
            "[ 0.74 -0.35  1.43]\n",
            "[ 0.751 -0.309  1.504]\n",
            "[ 0.7699 -0.2994  1.5133]\n",
            "[ 0.77272 -0.29469  1.51711]\n",
            "[ 0.773953 -0.293745  1.518334]\n",
            "[ 0.7742923 -0.293376   1.5186463]\n",
            "[ 0.77439166 -0.29327691  1.51875403]\n",
            "[ 0.77442312 -0.29324626  1.51878378]\n",
            "[ 0.77443213 -0.293237    1.51879306]\n",
            "[ 0.77443491 -0.29323427  1.51879581]\n",
            "Root: [ 0.8 -0.3  1.5]\n"
          ]
        }
      ],
      "source": [
        "def jacobi_method(A, b, x0, tol, max_iter):\n",
        "    n = len(b)\n",
        "    x = x0\n",
        "    for _ in range(max_iter):\n",
        "        x_new = np.zeros_like(x)\n",
        "        for i in range(n):\n",
        "            summation = sum(A[i][j] * x[j] for j in range(n) if j != i)\n",
        "            x_new[i] = (b[i] - summation) / A[i][i]\n",
        "        # Checking if we have achieved the desired accuracy\n",
        "        if np.linalg.norm(x_new - x, ord=np.inf) < tol:\n",
        "            return x_new\n",
        "        x = x_new\n",
        "        print(x)\n",
        "    return x\n",
        "\n",
        "A = np.array([[10, -1, -2], [-2, 10, -1], [-1, -2, 10]], dtype=float)\n",
        "b = np.array([5, -6, 15], dtype=float)\n",
        "x0 = np.zeros(len(b))\n",
        "\n",
        "root = jacobi_method(A, b, x0, tol=1e-6, max_iter=100)\n",
        "print(f\"Root: {np.round(root,1)}\")"
      ]
    },
    {
      "cell_type": "markdown",
      "source": [
        "The Jacobi method is an iterative algorithm used to solve linear systems of equations. For the Jacobi method to converge, the matrix\n",
        "𝐴\n",
        "must satisfy one or more of the following conditions like strict diagonal dominant, symmetric and positive definite and spectral radius condition\n",
        "\n",
        "Problem answer:\n",
        "\n",
        "The convergence of the Jacobi method depends on the structure of the matrix \\(A\\). A strictly diagonally dominant matrix guarantees convergence, as seen in this case, since the diagonal elements are larger than the sum of the off-diagonal elements in their respective rows. Poorly conditioned matrices, characterized by a high condition number (ratio of the largest to smallest eigenvalues), can slow or destabilize convergence, but for a diagonally dominant matrix like \\(A\\), the conditioning is reasonable, ensuring steady progress. Additionally, the spectral radius of the iteration matrix plays a crucial role: the smaller the spectral radius, the faster the method converges. If the spectral radius is close to 1, convergence becomes slower, even if the method eventually succeeds."
      ],
      "metadata": {
        "id": "43oRGTkgl8yf"
      }
    },
    {
      "cell_type": "markdown",
      "source": [
        "###Task 2: Gaussian method with choice of leading element\n"
      ],
      "metadata": {
        "id": "LcPVSAWkph8Q"
      }
    },
    {
      "cell_type": "markdown",
      "source": [
        "***Task 2: Gaussian method with choice of leading element.***\n",
        "\n",
        "\n",
        "Problem:\n",
        "1. Using Gauss's method, solve the system:\n",
        "2. Enable leading element selection to minimize numerical errors.\n",
        "\n",
        "Required:\n",
        "1. Print the upper triangular matrix and the result of the inverse substitution.\n",
        "2. Explain why the choice of the pivot is important for numerical stability"
      ],
      "metadata": {
        "id": "5MXsHkNpl6Kb"
      }
    },
    {
      "cell_type": "code",
      "source": [
        "def gauss_elimination(A, b):\n",
        "    n = len(b)\n",
        "\n",
        "    # Direct move (transformation to upper triangular matrix)\n",
        "    for i in range(n):\n",
        "        # Finding the maximum element to prevent division by 0\n",
        "        max_row = np.argmax(abs(A[i:n, i])) + i\n",
        "        A[[i, max_row]] = A[[max_row, i]]\n",
        "        b[i], b[max_row] = b[max_row], b[i]\n",
        "\n",
        "        for j in range(i+1, n):\n",
        "            factor = A[j, i] / A[i, i]\n",
        "            A[j, i:] -= factor * A[i, i:]\n",
        "            b[j] -= factor * b[i]\n",
        "\n",
        "    # Print the upper triangular matrix\n",
        "    print(\"Upper Triangular Matrix:\")\n",
        "    print(A)\n",
        "\n",
        "    # Back substitution\n",
        "    x = np.zeros(n)\n",
        "    for i in range(n-1, -1, -1):\n",
        "        x[i] = (b[i] - np.dot(A[i, i+1:], x[i+1:])) / A[i, i]\n",
        "\n",
        "    # Print the result of back substitution\n",
        "    print(\"\\nSolution (Back Substitution Result):\")\n",
        "    print(np.round(x, 2))\n",
        "    return x\n",
        "\n",
        "A = np.array([[2, 3, 1], [4, 11, -1], [-2, 1, 7]], dtype=float)\n",
        "b = np.array([10, 33, 15], dtype=float)\n",
        "\n",
        "root = gauss_elimination(A, b)"
      ],
      "metadata": {
        "colab": {
          "base_uri": "https://localhost:8080/"
        },
        "id": "OMDYC8ngl_Qy",
        "outputId": "a9c6e934-3802-4164-b928-23cd1deec1cc"
      },
      "execution_count": 31,
      "outputs": [
        {
          "output_type": "stream",
          "name": "stdout",
          "text": [
            "Upper Triangular Matrix:\n",
            "[[ 4.  11.  -1. ]\n",
            " [ 0.   6.5  6.5]\n",
            " [ 0.   0.   4. ]]\n",
            "\n",
            "Solution (Back Substitution Result):\n",
            "[-0.87  3.44  1.4 ]\n"
          ]
        }
      ]
    },
    {
      "cell_type": "markdown",
      "source": [
        "Gaussian elimination is a direct method for solving systems of linear equations. It transforms the given system into an upper triangular matrix using row operations, followed by back substitution to find the solution. The process consists of two main steps: forward elimination and back substitution\n",
        "\n",
        "The choice of the pivot in Gaussian elimination is crucial for numerical stability because dividing by a small pivot value can lead to large rounding errors, which accumulate during subsequent operations. By selecting the largest absolute value in the current column (partial pivoting), we minimize the risk of dividing by a very small number, thereby improving numerical accuracy and stability.\n",
        "\n",
        " Gaussian elimination is deterministic and exact but can suffer from numerical instability without pivoting, while the Jacobi method is iterative, approximate, and requires specific conditions for reliable convergence."
      ],
      "metadata": {
        "id": "g261ZWAVqTuI"
      }
    },
    {
      "cell_type": "markdown",
      "source": [
        "### Task 3: Gauss-Jordan method."
      ],
      "metadata": {
        "id": "seQJbgh2qr1V"
      }
    },
    {
      "cell_type": "markdown",
      "source": [
        "Problem:\n",
        "1. Solve the following system using the Gauss-Jordan method:\n",
        "2. Transform the augmented matrix of the system into diagonal form.\n",
        "\n",
        "Required:\n",
        "1. Provide the final diagonal matrix and the values of the variables.\n",
        "2. Explain the advantages of the Gauss-Jordan method over the Gauss method."
      ],
      "metadata": {
        "id": "AHuXHXa7rGxf"
      }
    },
    {
      "cell_type": "code",
      "source": [
        "def gauss_jordan(A, b):\n",
        "    n = len(b)\n",
        "    augmented_matrix = np.hstack([A, b.reshape(-1, 1)])\n",
        "\n",
        "    for i in range(n):\n",
        "        augmented_matrix[i] = augmented_matrix[i] / augmented_matrix[i, i]\n",
        "        for j in range(n):\n",
        "            if i != j:\n",
        "                factor = augmented_matrix[j, i]\n",
        "                augmented_matrix[j] -= factor * augmented_matrix[i]\n",
        "\n",
        "    print(\"Final Diagonal Matrix:\")\n",
        "    print(augmented_matrix)\n",
        "    return augmented_matrix[:, -1]\n",
        "\n",
        "A = np.array([[1, 1, 1], [2, -3, 4], [3, 4, 5]], dtype=float)\n",
        "b = np.array([9, 13, 40], dtype=float)\n",
        "\n",
        "root = gauss_jordan(A, b)\n",
        "print(f\"Root: {root}\")"
      ],
      "metadata": {
        "colab": {
          "base_uri": "https://localhost:8080/"
        },
        "id": "6z39JhO-qhno",
        "outputId": "f76279e0-ea8d-4464-d13f-8ed94e58c679"
      },
      "execution_count": 33,
      "outputs": [
        {
          "output_type": "stream",
          "name": "stdout",
          "text": [
            "Final Diagonal Matrix:\n",
            "[[1. 0. 0. 1.]\n",
            " [0. 1. 0. 3.]\n",
            " [0. 0. 1. 5.]]\n",
            "Root: [1. 3. 5.]\n"
          ]
        }
      ]
    },
    {
      "cell_type": "markdown",
      "source": [
        "The Gauss-Jordan method has several advantages over the Gaussian elimination method. It simplifies the process by eliminating the need for back substitution, as it transforms the matrix directly into a diagonal form, making the solution immediately readable. This method is particularly useful for calculating the inverse of a matrix and can reduce rounding errors by balancing computations across all rows. Its systematic approach, where every pivot column is normalized and other rows are reduced, ensures uniformity in operations. While the Gauss-Jordan method is ideal for smaller systems or when a matrix inverse is required, Gaussian elimination is generally faster and more efficient for large systems, especially when combined with pivoting techniques."
      ],
      "metadata": {
        "id": "ybEjsiOgsBWd"
      }
    },
    {
      "cell_type": "markdown",
      "source": [
        "###Task 4: Gauss-Seidel method and stopping criterion.\n",
        "Problem:\n",
        "1. Implement the Gauss-Seidel method for the system:\n",
        "2. Start with an initial guess x0=[0,0,0] and use a precision of 10^−5\n",
        ".\n",
        "\n",
        "Required:\n",
        "1. Provide a table of iterations with current values of variables.\n",
        "2. Explain how the stopping criterion (accuracy) affects execution time.\n"
      ],
      "metadata": {
        "id": "X91PyCsRsBuT"
      }
    },
    {
      "cell_type": "code",
      "source": [
        "def gauss_seidel(A, b, x0, tol, max_iter):\n",
        "    n = len(b)\n",
        "    x = x0\n",
        "    iteration = 0\n",
        "    table = []\n",
        "\n",
        "    for _ in range(max_iter):\n",
        "        x_new = np.copy(x)\n",
        "        for i in range(n):\n",
        "            summation = sum(A[i][j] * x_new[j] for j in range(n) if j != i)\n",
        "            x_new[i] = (b[i] - summation) / A[i][i]\n",
        "\n",
        "        iteration += 1\n",
        "\n",
        "        table.append(np.round(x_new, 5))\n",
        "\n",
        "        if np.linalg.norm(x_new - x, ord=np.inf) < tol:\n",
        "            print(f\"Convergence reached after {iteration} iterations.\")\n",
        "            break\n",
        "\n",
        "        x = x_new\n",
        "        print(f\"Iteration {iteration}: {x_new}\")\n",
        "\n",
        "    return x_new\n",
        "\n",
        "# Example System:\n",
        "# 8x - 3y + 2z = 20\n",
        "# 4x + 11y - z = 33\n",
        "# 6x + 3y + 12z = 36\n",
        "A = np.array([[8, -3, 2], [4, 11, -1], [6, 3, 12]], dtype=float)\n",
        "b = np.array([20, 33, 36], dtype=float)\n",
        "x0 = np.zeros(len(b))  # Initial guess [0, 0, 0]\n",
        "\n",
        "root = gauss_seidel(A, b, x0, tol=1e-5, max_iter=100)\n",
        "print(f\"\\nFinal Solution (Root): {np.round(root, 1)}\")"
      ],
      "metadata": {
        "colab": {
          "base_uri": "https://localhost:8080/"
        },
        "id": "ghJe0S7prYb3",
        "outputId": "00856f61-508c-4f4e-a3e2-ef9c95378f3b"
      },
      "execution_count": null,
      "outputs": [
        {
          "output_type": "stream",
          "name": "stdout",
          "text": [
            "Iteration 1: [2.5        2.09090909 1.22727273]\n",
            "Iteration 2: [2.97727273 2.02892562 1.00413223]\n",
            "Iteration 3: [3.00981405 1.99680691 0.99589125]\n",
            "Iteration 4: [2.99982978 1.99968838 1.00016302]\n",
            "Iteration 5: [2.99984239 2.00007213 1.00006077]\n",
            "Iteration 6: [3.00001186 2.00000121 0.99999377]\n",
            "Convergence reached after 7 iterations.\n",
            "\n",
            "Final Solution (Root): [3. 2. 1.]\n"
          ]
        }
      ]
    },
    {
      "cell_type": "markdown",
      "source": [
        "The stopping criterion, which checks if the solution is accurate enough by comparing the difference between the current and previous iterations, directly affects the execution time. If the accuracy (tolerance) is set to a very small value, the algorithm will require more iterations to reach a solution close enough to that tolerance, leading to a longer execution time. On the other hand, if the accuracy is set to a higher tolerance (less precise), the algorithm can stop sooner, reducing the number of iterations and thus the time it takes to find the solution. So, a stricter accuracy requirement increases the number of iterations and the time needed to converge."
      ],
      "metadata": {
        "id": "gmDiQ_vPuPr5"
      }
    },
    {
      "cell_type": "markdown",
      "source": [
        "### Task 5: Relaxation method.\n",
        "Problem:\n",
        "1. Solve the following system using the relaxation method with parameter ω=1.1:\n",
        "2. Compare the execution time and number of iterations for ω=1.1 and ω=1.5.\n",
        "\n",
        "Required:\n",
        "1. Provide solutions for both values of ω.\n",
        "2. Explain how the relaxation parameter affects the convergence of the method"
      ],
      "metadata": {
        "id": "Y3bn_kkJuQB8"
      }
    },
    {
      "cell_type": "code",
      "source": [
        "def relaxation_method(A, b, x0, tol, max_iter, omega):\n",
        "    n = len(b)\n",
        "    x = np.array(x0, dtype=float)\n",
        "    iteration = 0\n",
        "    for _ in range(max_iter):\n",
        "        x_new = np.copy(x)\n",
        "        for i in range(n):\n",
        "            summation = sum(A[i][j] * x_new[j] for j in range(n) if j != i)\n",
        "            x_new[i] = (1 - omega) * x[i] + omega * (b[i] - summation) / A[i][i]\n",
        "        # Checking the stopping condition\n",
        "        if np.linalg.norm(x_new - x, ord=np.inf) < tol:\n",
        "            return x_new, iteration + 1\n",
        "        x = x_new\n",
        "        iteration += 1\n",
        "    return x, iteration\n",
        "\n",
        "A = np.array([[5, 1, 1], [1, 4, 2], [1, 1, 5]], dtype=float)\n",
        "b = np.array([10, 12, 15], dtype=float)\n",
        "x0 = np.zeros(len(b))\n",
        "\n",
        "root1, iter1 = relaxation_method(A, b, x0, tol=1e-5, max_iter=100, omega=1.1)\n",
        "root2, iter2 = relaxation_method(A, b, x0, tol=1e-5, max_iter=100, omega=1.5)\n",
        "print(f\"Root (omega=1.1): {np.round(root1, 5)}\\nIterations: {iter1}\")\n",
        "print(f\"Root (omega=1.5): {np.round(root2, 5)}\\nIterations: {iter2}\")"
      ],
      "metadata": {
        "colab": {
          "base_uri": "https://localhost:8080/"
        },
        "id": "r-961nnfs0Jg",
        "outputId": "ab6bb76b-a681-4bc6-f2e7-b4b984b64576"
      },
      "execution_count": 30,
      "outputs": [
        {
          "output_type": "stream",
          "name": "stdout",
          "text": [
            "Root (omega=1.1): [1.21428 1.46429 2.46429]\n",
            "Iterations: 9\n",
            "Root (omega=1.5): [1.21429 1.46428 2.46428]\n",
            "Iterations: 25\n"
          ]
        }
      ]
    },
    {
      "cell_type": "markdown",
      "source": [
        "The relaxation parameter significantly impacts the convergence of the method. When \\( omega > 1 \\) (over-relaxation), convergence is typically faster because the updates overshoot, accelerating progress toward the solution; however, if omega  is too large, it can lead to instability and divergence. For \\( omega < 1 \\) (under-relaxation), convergence is slower as updates are dampened, but it enhances stability in poorly conditioned systems. When \\( omega = 1 \\), the method behaves like the standard Jacobi or Gauss-Seidel method without acceleration. The choice of \\( omega ) depends on the properties of the coefficient matrix, and an optimal \\( omega ) (often \\( 1 < omega < 2 \\)) can minimize iterations while ensuring stability."
      ],
      "metadata": {
        "id": "nb-2fnuVzDMr"
      }
    },
    {
      "cell_type": "markdown",
      "source": [
        "### Task 6: Ill-conditioned systems.\n",
        "Problem:\n",
        "1. Solve the following ill-conditioned system:\n",
        "2. Find the solution analytically and numerically.\n",
        "3. Show how a small change in the coefficients affects the result.\n",
        "\n",
        "Required:\n",
        "1. Derive an analytical and numerical solution.\n",
        "2. Explain why ill-conditioned systems are sensitive to change.\n"
      ],
      "metadata": {
        "id": "10i1pMK7x0kP"
      }
    },
    {
      "cell_type": "code",
      "source": [
        "def ill_conditioned_example():\n",
        "    A = np.array([[1.001, 0.999], [1.002, 1.000]], dtype=float)\n",
        "    b = np.array([2, 2.001], dtype=float)\n",
        "\n",
        "    # Modified coef.\n",
        "    A_mod = np.array([[1.001, 0.999], [1.002, 1.000]], dtype=float)\n",
        "    b_mod = np.array([2, 2.0002], dtype=float)\n",
        "\n",
        "    # Solution via numpy\n",
        "    try:\n",
        "        solution = np.linalg.solve(A, b)\n",
        "        print(f\"Solution: {solution}\")\n",
        "\n",
        "        solution_mod = np.linalg.solve(A_mod, b_mod)\n",
        "        print(f\"Solution with modified coef.: {solution_mod}\")\n",
        "\n",
        "        if solution is not None and solution_mod is not None:\n",
        "          sensitivity = np.linalg.norm(solution - solution_mod, ord=np.inf)\n",
        "          print(\"Sensitivity to perturbation in b:\", sensitivity)\n",
        "    except np.linalg.LinAlgError as e:\n",
        "        print(f\"Error in solution: {e}\")\n",
        "\n",
        "# Using function\n",
        "ill_conditioned_example()"
      ],
      "metadata": {
        "colab": {
          "base_uri": "https://localhost:8080/"
        },
        "id": "0OeftSSWu5XV",
        "outputId": "e37d58d9-636d-46a1-905f-dfcc1601ef88"
      },
      "execution_count": 45,
      "outputs": [
        {
          "output_type": "stream",
          "name": "stdout",
          "text": [
            "Solution: [ 500.50000003 -499.50000003]\n",
            "Solution with modified coef.: [ 900.10000006 -899.90000006]\n",
            "Sensitivity to perturbation in b: 400.4000000272548\n"
          ]
        }
      ]
    },
    {
      "cell_type": "markdown",
      "source": [
        "Ill-conditioned systems are sensitive to changes because they are nearly unstable, meaning that small changes in the input data (like slight modifications to the matrix or vector) can lead to large differences in the solution. This happens because the matrix in such systems is close to being singular, which causes numerical methods to become unstable and amplify small errors or inaccuracies in the data. Even minor adjustments can result in significant shifts in the solution, making these systems difficult to solve with high accuracy without special techniques."
      ],
      "metadata": {
        "id": "N5wz_x1V0lhT"
      }
    },
    {
      "cell_type": "markdown",
      "source": [],
      "metadata": {
        "id": "i7259-X854fK"
      }
    },
    {
      "cell_type": "code",
      "source": [],
      "metadata": {
        "id": "yWyXEYV2F3BV"
      },
      "execution_count": null,
      "outputs": []
    }
  ]
}